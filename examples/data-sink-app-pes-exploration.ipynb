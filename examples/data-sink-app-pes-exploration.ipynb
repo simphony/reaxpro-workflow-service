{
 "cells": [
  {
   "cell_type": "markdown",
   "id": "18fd73cb-9bd8-4f78-9f72-a519c827aa9b",
   "metadata": {},
   "source": [
    "# MarketPlace data sink app and reaxpro platform interfacing\n"
   ]
  },
  {
   "cell_type": "markdown",
   "id": "9514b9ce",
   "metadata": {},
   "source": [
    "\n",
    "*If you operating on **snellius**, follow [this documentation](https://servicedesk.surf.nl/wiki/pages/viewpage.action?pageId=30660252#JupyterNotebooksonSnellius-UsingPythonvirtualenvironmentswithSnellius'JupyterHub) for setting up you virtual environment with the needed modules and packges.*\n",
    "\n",
    "Run the following `bash`-commands in order to setup the jupyter environment:\n",
    "\n",
    "```\n",
    "# Load Python module used by the https://jupyter.snellius.surf.nl/2021 JupyterHub\n",
    "module load 2022\n",
    "module load Python/3.10.4-GCCcore-11.3.0\n",
    " \n",
    "# Create and activate virtual environment\n",
    "virtualenv marketplace_env\n",
    " \n",
    "# Purge modules so that any subsequent pip-installs don't pick up on python packages from the module environment\n",
    "module purge\n",
    " \n",
    "# Activate virtual environment\n",
    "source marketplace_env/bin/activate\n",
    "\n",
    "# make sure that you are using the pip module from the correct python kernel\n",
    "which pip\n",
    "  \n",
    "# Install ipykernel in the virtual environment\n",
    "pip install ipykernel reaxpro-workflow-service git+https://github.com/materials-marketplace/python-sdk.git@fix/import-error\n",
    "\n",
    "# make sure that you are using the correct python kernel\n",
    "which python3\n",
    "\n",
    "# Install the virtual environment as custom kernel. It will show up in the Jupyter Notebook Server with the name passed to the '--name' argument.\n",
    "python3 -m ipykernel install --user --name=marketplace_env\n",
    " \n",
    "# Makes sure the kernel only uses Python packages from the conda environment, not from the module environment\n",
    "sed -i '/\"-m\",/i \\ \\ \"-E\",' ~/.local/share/jupyter/kernels/marketplace_env/kernel.json\n",
    "```\n",
    "\n",
    "Now, navigate to `https://jupyter.snellius.surf.nl/2022/` and log in with your credentials."
   ]
  },
  {
   "cell_type": "markdown",
   "id": "44d57801-39c0-4535-bc73-22be797b3462",
   "metadata": {},
   "source": [
    "First you follow the previous steps, you are able to operate with this noteboke. \n",
    "\n",
    "Make sure that the needed packages are installed, if you did not already in the previous steps."
   ]
  },
  {
   "cell_type": "code",
   "execution_count": null,
   "id": "00a5b0be-980f-4a75-b289-8f1705ee90c4",
   "metadata": {
    "tags": []
   },
   "outputs": [],
   "source": [
    "!pip install git+https://github.com/materials-marketplace/python-sdk.git@fix/import-error --no-cache"
   ]
  },
  {
   "cell_type": "markdown",
   "id": "4b7c6551-5cef-492e-8684-c449dc3ee9f5",
   "metadata": {},
   "source": [
    "Import the MPSession for the data sink client and the custom requests-module"
   ]
  },
  {
   "cell_type": "code",
   "execution_count": 2,
   "id": "e9e2584f-6a41-4749-af85-3d5bbcd5e730",
   "metadata": {},
   "outputs": [],
   "source": [
    "import requests\n",
    "import tempfile\n",
    "from getpass import getpass\n",
    "from pprint import pprint\n",
    "\n",
    "from marketplace.datasink_client.session import MPSession\n",
    "from osp.core.namespaces import emmo"
   ]
  },
  {
   "cell_type": "markdown",
   "id": "2efd26c3-a18a-4c56-94a2-091044ca7fb6",
   "metadata": {},
   "source": [
    "Set the host of your reaxpro-platform. The IP address is the respective address where you launched the app via docker or singularity."
   ]
  },
  {
   "cell_type": "code",
   "execution_count": 3,
   "id": "0dab9cda-ce8e-440f-adb8-cd19814d0345",
   "metadata": {},
   "outputs": [],
   "source": [
    "HOST = \"172.18.57.86:8081\""
   ]
  },
  {
   "cell_type": "markdown",
   "id": "224895fa-fdec-45dd-8527-3299c66f436e",
   "metadata": {},
   "source": [
    "Now, let us repeat the tutorial which is available from the [official documentation](https://reaxpro-workflow-service.readthedocs.io/en/latest/index.html), but in terms of the [RES calculation in ams](https://reaxpro-workflow-service.readthedocs.io/en/latest/usecases.html#res-calculation). "
   ]
  },
  {
   "cell_type": "code",
   "execution_count": 4,
   "id": "02bd35f9-897c-4ff6-89ec-a7d8af4ef538",
   "metadata": {},
   "outputs": [
    {
     "name": "stdout",
     "output_type": "stream",
     "text": [
      "First of all, we make sure that the PES Calculation is our registered models:\n",
      "{'message': 'Fetched registry of data models.',\n",
      " 'registered_models': ['COPt111FullscaleModel',\n",
      "                       'COPt111FromMesoScaleModel',\n",
      "                       'PESExploration',\n",
      "                       'COPt111MesoscaleModel',\n",
      "                       'COCatalyticFOAMModel',\n",
      "                       'EnergyLandscapeRefinement',\n",
      "                       'COpyZacrosModel']}\n"
     ]
    }
   ],
   "source": [
    "response = requests.get(f\"http://{HOST}/models/registered\")\n",
    "print(\"First of all, we make sure that the PES Calculation is our registered models:\")\n",
    "pprint(response.json())"
   ]
  },
  {
   "cell_type": "markdown",
   "id": "cb2b30bb-dde8-49b9-8ad9-a208e56eb6c4",
   "metadata": {},
   "source": [
    "Now, we define in the input data from the documentation:"
   ]
  },
  {
   "cell_type": "code",
   "execution_count": 5,
   "id": "9fa1dca3-d2cf-47a0-a50e-737014b99dd6",
   "metadata": {},
   "outputs": [],
   "source": [
    "data = {\n",
    "    \"force_field\": \"CHONSFPtClNi\",\n",
    "    \"solver_type\": \"Direct\",\n",
    "    \"n_expeditions\": 30,\n",
    "    \"n_explorers\": 3,\n",
    "    \"max_energy\": 2.0,\n",
    "    \"max_distance\": 3.8,\n",
    "    \"random_seed\": 100,\n",
    "    \"fixed_region\": \"surface\",\n",
    "    \"reference_region\": \"surface\",\n",
    "    \"symmetry_check\": \"T\",\n",
    "    \"molecule\": \"4442d5c3-4b61-4b13-9bbb-fdf942776ca6\",\n",
    "    \"lattice\": \"4442d5c3-4b61-4b13-9bbb-fdf942776ca6\"\n",
    "}    "
   ]
  },
  {
   "cell_type": "code",
   "execution_count": 6,
   "id": "ad42701e-67ff-462b-94b5-c40ba402e5b2",
   "metadata": {},
   "outputs": [
    {
     "name": "stdout",
     "output_type": "stream",
     "text": [
      "Create the model and get the cache id from the response:\n",
      "{'cache_id': '062729c0-dac7-4c86-a33f-984cdaeb6cfe'}\n"
     ]
    }
   ],
   "source": [
    "response = requests.post(f\"http://{HOST}/models/create/PESExploration\", json=data)\n",
    "print(\"Create the model and get the cache id from the response:\")\n",
    "cache = response.json()\n",
    "pprint(cache)"
   ]
  },
  {
   "cell_type": "code",
   "execution_count": 7,
   "id": "9dcf3e5c-71ec-4676-9954-0dccbfbbc7ee",
   "metadata": {},
   "outputs": [
    {
     "name": "stdout",
     "output_type": "stream",
     "text": [
      "Send the task and get the task id from the response:\n",
      "{'args': None,\n",
      " 'date_done': None,\n",
      " 'kwargs': None,\n",
      " 'state': 'PENDING',\n",
      " 'status': 'PENDING',\n",
      " 'task_id': '8ac4b841-019f-4957-bbb5-be1d5f4b125d',\n",
      " 'traceback': None}\n"
     ]
    }
   ],
   "source": [
    "response = requests.post(f\"http://{HOST}/task/send\", json=cache)\n",
    "\n",
    "print(\"Send the task and get the task id from the response:\")\n",
    "\n",
    "task = response.json()\n",
    "pprint(task)\n",
    "task_id = task[\"task_id\"]"
   ]
  },
  {
   "cell_type": "code",
   "execution_count": 8,
   "id": "fe411aa1-b99c-4cf2-9019-604e2e70ba3b",
   "metadata": {},
   "outputs": [
    {
     "name": "stdout",
     "output_type": "stream",
     "text": [
      "Get logging messages of the task:\n",
      "\n",
      "2023-08-29 12:16:01,844 - INFO - received cache_key 062729c0-dac7-4c86-a33f-984cdaeb6cfe\n",
      "2023-08-29 12:16:02,162 - INFO - 293 CUDS objects have been added to CeleryWorkflowSession\n",
      "2023-08-29 12:16:02,183 - INFO - 1 CUDS object has been updated in CeleryWorkflowSession\n",
      "2023-08-29 12:16:02,201 - INFO - 0 CUDS objects have been deleted from CeleryWorkflowSession\n",
      "2023-08-29 12:16:02,226 - INFO - Did not find any workflow steps with\n",
      "            complementary workers. Will scan for single\n",
      "            object of type emmo.Calculation.\n",
      "2023-08-29 12:16:02,253 - INFO - Found additional workers [(<emmo.ProcessSearch: 42e6a340-cf07-42d6-a84d-022781876f04,  CeleryWorkflowSession: @0x14f056f5f640>, 'simphony-ams')] in the buffer,\n",
      "        but will ignored because not part of a workflow chain.\n",
      "2023-08-29 12:16:02,312 - INFO - received cache_key 062729c0-dac7-4c86-a33f-984cdaeb6cfe\n",
      "2023-08-29 12:16:02,629 - INFO - 293 CUDS objects have been added to Some Wrapper Session\n",
      "2023-08-29 12:16:02,649 - INFO - 1 CUDS object has been updated in Some Wrapper Session\n",
      "2023-08-29 12:16:02,667 - INFO - 0 CUDS objects have been deleted from Some Wrapper Session\n",
      "\n"
     ]
    }
   ],
   "source": [
    "response = requests.get(f\"http://{HOST}/task/log/{task_id}\")\n",
    "\n",
    "print(\"Get logging messages of the task:\\n\")\n",
    "print(response.text)"
   ]
  },
  {
   "cell_type": "code",
   "execution_count": 9,
   "id": "ccc7bd51-21fa-4727-b707-73c517c9dce8",
   "metadata": {},
   "outputs": [
    {
     "name": "stdout",
     "output_type": "stream",
     "text": [
      "Check that the job was successful task:\n",
      "\n",
      "{'args': None,\n",
      " 'date_done': '2023-08-29T10:16:05.632829',\n",
      " 'kwargs': None,\n",
      " 'state': 'SUCCESS',\n",
      " 'status': 'SUCCESS',\n",
      " 'task_id': '8ac4b841-019f-4957-bbb5-be1d5f4b125d',\n",
      " 'traceback': None}\n"
     ]
    }
   ],
   "source": [
    "response = requests.get(f\"http://{HOST}/task/status/{task_id}\")\n",
    "\n",
    "print(\"Check that the job was successful task:\\n\")\n",
    "pprint(response.json())"
   ]
  },
  {
   "cell_type": "code",
   "execution_count": 10,
   "id": "d2716f8e-4ef6-4fa1-9d0d-2d7e83544d0a",
   "metadata": {},
   "outputs": [
    {
     "name": "stdout",
     "output_type": "stream",
     "text": [
      "Get results from the simulation:\n",
      "\n",
      "{'date_done': '2023-08-29T10:16:05.632829',\n",
      " 'result': {'cache_meta': '7dd89cd0-9e39-4224-aee3-a3b257892d2e',\n",
      "            'cache_raw': {'0_simphony-ams': '182491e1-92bb-4257-a56a-f4f8be1140db'}},\n",
      " 'task_id': '8ac4b841-019f-4957-bbb5-be1d5f4b125d',\n",
      " 'traceback': None}\n"
     ]
    }
   ],
   "source": [
    "response = requests.get(f\"http://{HOST}/task/result/{task_id}\")\n",
    "\n",
    "print(\"Get results from the simulation:\\n\")\n",
    "result = response.json()\n",
    "pprint(result)\n",
    "\n",
    "graph_key = result[\"result\"][\"cache_meta\"]\n",
    "raw_data_key = result[\"result\"][\"cache_raw\"][\"0_simphony-ams\"]"
   ]
  },
  {
   "cell_type": "code",
   "execution_count": 11,
   "id": "7bcd34be-69fc-4c5b-baaf-ffa6f0f9e7a2",
   "metadata": {},
   "outputs": [
    {
     "name": "stdout",
     "output_type": "stream",
     "text": [
      "First of all, get the resulting graph from the simulation:\n",
      "File name: /scratch-local/mbueschel.3559299/tmp15xfkrkp.ttl\n",
      "Then, get zipped archive with the raw data from the simulation:\n",
      "File name: /scratch-local/mbueschel.3559299/tmpz_87sxq2.tar\n"
     ]
    }
   ],
   "source": [
    "print(\"First of all, get the resulting graph from the simulation:\")\n",
    "\n",
    "response = requests.get(f\"http://{HOST}/cache/download/{graph_key}\")\n",
    "\n",
    "with tempfile.NamedTemporaryFile(\"w\", delete=False, suffix=\".ttl\") as tmp_graph:\n",
    "    tmp_graph.write(response.text)\n",
    "print(\"File name:\", tmp_graph.name)\n",
    "\n",
    "print(\"Then, get zipped archive with the raw data from the simulation:\")\n",
    "\n",
    "response = requests.get(f\"http://{HOST}/cache/download/{raw_data_key}\")\n",
    "\n",
    "with tempfile.NamedTemporaryFile(\"w\", delete=False, suffix=\".tar\") as tmp_raw:\n",
    "    tmp_raw.write(response.text)\n",
    "print(\"File name:\", tmp_raw.name)"
   ]
  },
  {
   "cell_type": "markdown",
   "id": "d137915c-061a-4250-8caf-040be4b5f759",
   "metadata": {},
   "source": [
    "Now that we have down our data, we will interact with the data sink on the MarketPlace in order to store and organize our data.\n",
    "\n",
    "For this purpose, we set our client ID (Make sure that you purchased it on the platform first)."
   ]
  },
  {
   "cell_type": "code",
   "execution_count": 12,
   "id": "166f7df3-97d2-4bc0-bc1f-cf785a036d1e",
   "metadata": {},
   "outputs": [],
   "source": [
    "client_id = \"edb56699-9377-4f41-b1c7-ef2f46dac707\""
   ]
  },
  {
   "cell_type": "markdown",
   "id": "4dc79894-9b8e-47c8-a666-cda5b587d91c",
   "metadata": {},
   "source": [
    "And set the access token:"
   ]
  },
  {
   "cell_type": "code",
   "execution_count": 13,
   "id": "5d872790-6036-468b-95ef-6707455066ed",
   "metadata": {},
   "outputs": [
    {
     "name": "stdin",
     "output_type": "stream",
     "text": [
      " ········\n"
     ]
    }
   ],
   "source": [
    "token = getpass()"
   ]
  },
  {
   "cell_type": "markdown",
   "id": "dc7f9426-c816-43a3-8626-9bfe89546d66",
   "metadata": {},
   "source": [
    "And start the MP session:"
   ]
  },
  {
   "cell_type": "code",
   "execution_count": 14,
   "id": "3f6769b7-765c-4646-8148-de46f803ccb9",
   "metadata": {},
   "outputs": [],
   "source": [
    "session = MPSession(access_token=token, client_id=client_id)"
   ]
  },
  {
   "cell_type": "markdown",
   "id": "295d3c54-82ea-4a84-930e-1f1101e2876c",
   "metadata": {},
   "source": [
    "In order to follow the conventions of DCAT (the data cataloge), we define a new collection name to which we upload our data. For simplicity, we will use the `task_id` as collection name."
   ]
  },
  {
   "cell_type": "code",
   "execution_count": 22,
   "id": "68c26d56-b826-4636-8039-2486cdbd10c7",
   "metadata": {},
   "outputs": [
    {
     "name": "stdout",
     "output_type": "stream",
     "text": [
      "Upload the graph:\n",
      "\n",
      "{'last_modified': datetime.datetime(2023, 8, 29, 10, 20, 22, 67540)}\n",
      "[('graph-8ac4b841-019f-4957-bbb5-be1d5f4b125d', '700396c8-2fe0-4807-be39-9d9374b8eb63'), ('/scratch-local/mbueschel.3559299/tmp15xfkrkp.ttl', None)]\n",
      "\n",
      "And upload the raw data:\n",
      "\n",
      "Error: Server returned 413 while creating dataset raw-data-ams-8ac4b841-019f-4957-bbb5-be1d5f4b125d: <html>\n",
      "<head><title>413 Request Entity Too Large</title></head>\n",
      "<body>\n",
      "<center><h1>413 Request Entity Too Large</h1></center>\n",
      "<hr><center>nginx/1.21.6</center>\n",
      "</body>\n",
      "</html>\n",
      "\n",
      "[('raw-data-ams-8ac4b841-019f-4957-bbb5-be1d5f4b125d', 'eac669e6-a75c-41b9-bc05-443437373020'), ('/scratch-local/mbueschel.3559299/tmpz_87sxq2.tar', None)]\n"
     ]
    }
   ],
   "source": [
    "print(\"Upload the graph:\\n\")\n",
    "\n",
    "graph_name = f\"graph-{task_id}\"\n",
    "raw_name = f\"raw-data-ams-{task_id}\"\n",
    "\n",
    "objects = session.create_dataset_from_path(\n",
    "        path=tmp_graph.name,\n",
    "        dataset_name=graph_name,\n",
    "        collection_name=graph_name ,\n",
    ")\n",
    "print(objects)\n",
    "\n",
    "print(\"\\nAnd upload the raw data:\\n\")\n",
    "\n",
    "objects = session.create_dataset_from_path(\n",
    "        path=tmp_raw.name,\n",
    "        dataset_name=raw_name,\n",
    "        collection_name=raw_name ,\n",
    ")\n",
    "print(objects)"
   ]
  },
  {
   "cell_type": "code",
   "execution_count": null,
   "id": "cbe3a4ca-fca3-4fb5-b78a-b1dcc177d28c",
   "metadata": {},
   "outputs": [],
   "source": []
  },
  {
   "cell_type": "code",
   "execution_count": 23,
   "id": "813d7afc-2282-41aa-8557-90c7163f277b",
   "metadata": {},
   "outputs": [
    {
     "name": "stdout",
     "output_type": "stream",
     "text": [
      "{'items': [{'bytes': 117922,\n",
      "            'content_type': 'application/octet-stream',\n",
      "            'hash': 'a48711d6c3dfa9ebf55209c5ba102b14',\n",
      "            'last_modified': datetime.datetime(2023, 8, 29, 10, 16, 59, 182858),\n",
      "            'name': 'graph-8ac4b841-019f-4957-bbb5-be1d5f4b125d'}]}\n"
     ]
    }
   ],
   "source": [
    "objects = session.list_datasets(collection_name=collection_name)\n",
    "pprint(objects)"
   ]
  },
  {
   "cell_type": "code",
   "execution_count": 24,
   "id": "4cdd2d45-ab07-435c-ac99-50de263a638d",
   "metadata": {},
   "outputs": [
    {
     "name": "stdout",
     "output_type": "stream",
     "text": [
      "('[{\"@id\":\"http://marketplace-datasink.org/datasets/f7a3b0ed-c805-4baa-a3d6-b6abc40e0f97\",\"@type\":[\"http://www.w3.org/ns/dcat#Dataset\"],\"http://purl.org/dc/terms/identifier\":[{\"@value\":\"f7a3b0ed-c805-4baa-a3d6-b6abc40e0f97\"}],\"http://purl.org/dc/terms/isPartOf\":[{\"@value\":\"http://marketplace-datasink.org/catalogs/166092ae-a38a-4dde-9351-6ffd1b4a59f8\"},{\"@id\":\"http://marketplace-datasink.org/catalogs/166092ae-a38a-4dde-9351-6ffd1b4a59f8\"}],\"http://purl.org/dc/terms/issued\":[{\"@type\":\"xsd:date\",\"@value\":\"2023-08-29 '\n",
      " '10:16:59.182858\"}],\"http://purl.org/dc/terms/modified\":[{\"@type\":\"xsd:date\",\"@value\":\"2023-08-29 '\n",
      " '10:16:59.182858\"}],\"http://www.w3.org/ns/dcat#distribution\":[{\"@id\":\"http://marketplace-datasink.org/distributions/f7a3b0ed-c805-4baa-a3d6-b6abc40e0f97/graph-8ac4b841-019f-4957-bbb5-be1d5f4b125d\"}]},{\"@id\":\"http://marketplace-datasink.org/distributions/f7a3b0ed-c805-4baa-a3d6-b6abc40e0f97/graph-8ac4b841-019f-4957-bbb5-be1d5f4b125d\",\"@type\":[\"http://www.w3.org/ns/dcat#Distribution\"],\"http://purl.org/dc/terms/format\":[{\"@value\":\"turtle\"}],\"http://purl.org/dc/terms/modified\":[{\"@type\":\"xsd:date\",\"@value\":\"2023-08-29 '\n",
      " '10:16:59.182858\"}],\"http://purl.org/dc/terms/title\":[{\"@value\":\"graph-8ac4b841-019f-4957-bbb5-be1d5f4b125d\"}],\"http://www.w3.org/ns/dcat#downloadURL\":[{\"@value\":\"https://data-sink-app.materials-data.space/data/reaxpro-simulation-8ac4b841-019f-4957-bbb5-be1d5f4b125d/graph-8ac4b841-019f-4957-bbb5-be1d5f4b125d\"}]},{\"@id\":\"http://marketplace-datasink.org/catalogs/166092ae-a38a-4dde-9351-6ffd1b4a59f8\",\"@type\":[\"http://www.w3.org/ns/dcat#Catalog\"],\"http://purl.org/dc/terms/identifier\":[{\"@value\":\"166092ae-a38a-4dde-9351-6ffd1b4a59f8\"}],\"http://purl.org/dc/terms/issued\":[{\"@type\":\"xsd:date\",\"@value\":\"2023-08-29 '\n",
      " '10:16:42.787574\"}],\"http://purl.org/dc/terms/modified\":[{\"@type\":\"xsd:date\",\"@value\":\"2023-08-29 '\n",
      " '10:16:42.787574\"}],\"http://purl.org/dc/terms/title\":[{\"@value\":\"reaxpro-simulation-8ac4b841-019f-4957-bbb5-be1d5f4b125d\"}],\"http://purl.org/dc/terms/type\":[{\"@value\":\"http://purl.org/dc/dcmitype/Collection\"}],\"http://www.w3.org/ns/dcat#dataset\":[{\"@id\":\"http://marketplace-datasink.org/datasets/f7a3b0ed-c805-4baa-a3d6-b6abc40e0f97\"}]}]')\n"
     ]
    }
   ],
   "source": [
    "objects = session.get_collection_dcat(collection_name=collection_name)\n",
    "pprint(objects)"
   ]
  },
  {
   "cell_type": "markdown",
   "id": "2faa1601-92fe-4a4c-b63a-d8e037c8b73a",
   "metadata": {},
   "source": [
    "And let us send a SPARQL-query to a graph in the data sink:"
   ]
  },
  {
   "cell_type": "markdown",
   "id": "0f2f4851-01ae-4bf1-9db9-055b04ce648c",
   "metadata": {},
   "source": [
    "Give me all calculation individuals?"
   ]
  },
  {
   "cell_type": "code",
   "execution_count": 30,
   "id": "463da478-a9ab-4153-815d-a6d66afa8faf",
   "metadata": {},
   "outputs": [
    {
     "name": "stdout",
     "output_type": "stream",
     "text": [
      "'[]'\n"
     ]
    }
   ],
   "source": [
    "query = f\"\"\"PREFIX skos:<http://www.w3.org/2004/02/skos/core#>\n",
    "    SELECT ?calculation WHERE {{\n",
    "        ?calculation rdf:type  <{emmo.AtomisticCalculation.iri}> .\n",
    "        }}\n",
    "\"\"\"\n",
    "\n",
    "objects = session.query_dataset(collection_name=graph_name, dataset_name=graph_name, query=query)\n",
    "pprint(objects)"
   ]
  },
  {
   "cell_type": "markdown",
   "id": "17984dd3-0d80-46af-ba6a-88c3ded907cc",
   "metadata": {},
   "source": [
    "Give all calculations with output TotalEnelectronic Energy?"
   ]
  },
  {
   "cell_type": "code",
   "execution_count": 32,
   "id": "e5ac1a72-e987-4aec-82ad-b3d2fd026075",
   "metadata": {},
   "outputs": [
    {
     "name": "stdout",
     "output_type": "stream",
     "text": [
      "'[]'\n"
     ]
    }
   ],
   "source": [
    "query = f\"\"\"PREFIX skos:<http://www.w3.org/2004/02/skos/core#>\n",
    "\n",
    "    SELECT ?calculation ?calculationname ?optgeometry ?valuenumber  ?unitsymbol WHERE {{\n",
    "        ?calculationtype rdfs:subClassOf* <{emmo.Calculation.iri}> .\n",
    "        ?calculation rdf:type ?calculationtype .\n",
    "        ?calculationtype skos:prefLabel ?calculationname .\n",
    "        ?calculation <{emmo.hasOutput.iri}> ?optgeometry .\n",
    "        ?optgeometry <{emmo.hasProperty.iri}> ?totalelectronicenergy .\n",
    "        ?totalelectronicenergy rdf:type <{emmo.TotalElectronicEnergy.iri}> .\n",
    "        ?totalelectronicenergy <{emmo.hasQuantityValue.iri}> ?value .\n",
    "        ?value <{emmo.hasNumericalData.iri}> ?valuenumber .\n",
    "        ?totalelectronicenergy <{emmo.hasReferenceUnit.iri}> ?unit .\n",
    "        ?unit <{emmo.hasSymbolData.iri}> ?unitsymbol .\n",
    "\n",
    "    }}\n",
    "\"\"\"\n",
    "\n",
    "objects = session.query_dataset(collection_name=graph_name, dataset_name=graph_name, query=query)\n",
    "pprint(objects)"
   ]
  },
  {
   "cell_type": "code",
   "execution_count": null,
   "id": "ffdfe92b-df3c-421a-a84f-67f5e9453d75",
   "metadata": {},
   "outputs": [],
   "source": []
  }
 ],
 "metadata": {
  "kernelspec": {
   "display_name": "marketplace_env",
   "language": "python",
   "name": "marketplace_env"
  },
  "language_info": {
   "codemirror_mode": {
    "name": "ipython",
    "version": 3
   },
   "file_extension": ".py",
   "mimetype": "text/x-python",
   "name": "python",
   "nbconvert_exporter": "python",
   "pygments_lexer": "ipython3",
   "version": "3.10.4"
  },
  "widgets": {
   "application/vnd.jupyter.widget-state+json": {
    "state": {},
    "version_major": 2,
    "version_minor": 0
   }
  }
 },
 "nbformat": 4,
 "nbformat_minor": 5
}
