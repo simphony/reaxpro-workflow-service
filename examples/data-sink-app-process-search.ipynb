{
 "cells": [
  {
   "cell_type": "markdown",
   "id": "18fd73cb-9bd8-4f78-9f72-a519c827aa9b",
   "metadata": {},
   "source": [
    "# MarketPlace data sink app and reaxpro platform interfacing\n"
   ]
  },
  {
   "cell_type": "markdown",
   "id": "9514b9ce",
   "metadata": {},
   "source": [
    "\n",
    "*If you operating on **snellius**, follow [this documentation](https://servicedesk.surf.nl/wiki/pages/viewpage.action?pageId=30660252#JupyterNotebooksonSnellius-UsingPythonvirtualenvironmentswithSnellius'JupyterHub) for setting up you virtual environment with the needed modules and packges.*\n",
    "\n",
    "Run the following `bash`-commands in order to setup the jupyter environment:\n",
    "\n",
    "```\n",
    "# Load Python module used by the https://jupyter.snellius.surf.nl/2021 JupyterHub\n",
    "module load 2022\n",
    "module load Python/3.10.4-GCCcore-11.3.0\n",
    " \n",
    "# Create and activate virtual environment\n",
    "virtualenv marketplace_env\n",
    " \n",
    "# Purge modules so that any subsequent pip-installs don't pick up on python packages from the module environment\n",
    "module purge\n",
    " \n",
    "# Activate virtual environment\n",
    "source marketplace_env/bin/activate\n",
    "\n",
    "# make sure that you are using the pip module from the correct python kernel\n",
    "which pip\n",
    "  \n",
    "# Install ipykernel in the virtual environment\n",
    "pip install ipykernel reaxpro-workflow-service git+https://github.com/materials-marketplace/python-sdk.git@fix/import-error\n",
    "\n",
    "# make sure that you are using the correct python kernel\n",
    "which python3\n",
    "\n",
    "# Install the virtual environment as custom kernel. It will show up in the Jupyter Notebook Server with the name passed to the '--name' argument.\n",
    "python3 -m ipykernel install --user --name=marketplace_env\n",
    " \n",
    "# Makes sure the kernel only uses Python packages from the conda environment, not from the module environment\n",
    "sed -i '/\"-m\",/i \\ \\ \"-E\",' ~/.local/share/jupyter/kernels/marketplace_env/kernel.json\n",
    "```\n",
    "\n",
    "Now, navigate to `https://jupyter.snellius.surf.nl/2022/` and log in with your credentials."
   ]
  },
  {
   "cell_type": "markdown",
   "id": "44d57801-39c0-4535-bc73-22be797b3462",
   "metadata": {},
   "source": [
    "First you follow the previous steps, you are able to operate with this noteboke. \n",
    "\n",
    "Make sure that the needed packages are installed, if you did not already in the previous steps."
   ]
  },
  {
   "cell_type": "code",
   "execution_count": 15,
   "id": "00a5b0be-980f-4a75-b289-8f1705ee90c4",
   "metadata": {
    "tags": []
   },
   "outputs": [
    {
     "name": "stdout",
     "output_type": "stream",
     "text": [
      "Defaulting to user installation because normal site-packages is not writeable\n",
      "Requirement already satisfied: simphony-osp in /gpfs/home5/mbueschel/.local/lib/python3.10/site-packages (4.0.0)\n",
      "Collecting marketplace-sdk==0.5.0\n",
      "  Using cached marketplace_sdk-0.5.0-py3-none-any.whl (20 kB)\n",
      "Requirement already satisfied: packaging<=23.0,>=21.3 in /gpfs/home5/mbueschel/.local/lib/python3.10/site-packages (from marketplace-sdk==0.5.0) (23.0)\n",
      "Requirement already satisfied: marketplace-standard-app-api~=0.4 in /gpfs/home5/mbueschel/.local/lib/python3.10/site-packages (from marketplace-sdk==0.5.0) (0.5.0)\n",
      "Requirement already satisfied: fastapi<=0.95.1,>0.75 in /gpfs/home5/mbueschel/.local/lib/python3.10/site-packages (from marketplace-sdk==0.5.0) (0.92.0)\n",
      "Requirement already satisfied: requests<3.0,>2.26.0 in /gpfs/admin/_hpc/sw/arch/AMD-ZEN2/RHEL8/EB_production/2022/software/Python/3.10.4-GCCcore-11.3.0/lib/python3.10/site-packages (from marketplace-sdk==0.5.0) (2.27.1)\n",
      "Collecting rdflib-jsonld==0.6.2\n",
      "  Using cached rdflib_jsonld-0.6.2-py2.py3-none-any.whl (4.0 kB)\n",
      "Collecting rdflib==6.2.0\n",
      "  Using cached rdflib-6.2.0-py3-none-any.whl (500 kB)\n",
      "Collecting python-keycloak==2.12.0\n",
      "  Using cached python_keycloak-2.12.0-py3-none-any.whl (52 kB)\n",
      "Requirement already satisfied: pika~=1.2 in /gpfs/home5/mbueschel/.local/lib/python3.10/site-packages (from marketplace-sdk==0.5.0) (1.3.2)\n",
      "Requirement already satisfied: requests-toolbelt<0.10.0,>=0.9.1 in /gpfs/admin/_hpc/sw/arch/AMD-ZEN2/RHEL8/EB_production/2022/software/Python/3.10.4-GCCcore-11.3.0/lib/python3.10/site-packages (from python-keycloak==2.12.0->marketplace-sdk==0.5.0) (0.9.1)\n",
      "Requirement already satisfied: python-jose<4.0.0,>=3.3.0 in /gpfs/home5/mbueschel/.local/lib/python3.10/site-packages (from python-keycloak==2.12.0->marketplace-sdk==0.5.0) (3.3.0)\n",
      "Requirement already satisfied: urllib3<2.0.0,>=1.26.0 in /gpfs/admin/_hpc/sw/arch/AMD-ZEN2/RHEL8/EB_production/2022/software/Python/3.10.4-GCCcore-11.3.0/lib/python3.10/site-packages (from python-keycloak==2.12.0->marketplace-sdk==0.5.0) (1.26.9)\n",
      "Requirement already satisfied: isodate in /gpfs/home5/mbueschel/.local/lib/python3.10/site-packages (from rdflib==6.2.0->marketplace-sdk==0.5.0) (0.6.1)\n",
      "Requirement already satisfied: setuptools in /gpfs/admin/_hpc/sw/arch/AMD-ZEN2/RHEL8/EB_production/2022/software/Python/3.10.4-GCCcore-11.3.0/lib/python3.10/site-packages (from rdflib==6.2.0->marketplace-sdk==0.5.0) (62.1.0)\n",
      "Requirement already satisfied: pyparsing in /gpfs/admin/_hpc/sw/arch/AMD-ZEN2/RHEL8/EB_production/2022/software/Python/3.10.4-GCCcore-11.3.0/lib/python3.10/site-packages (from rdflib==6.2.0->marketplace-sdk==0.5.0) (3.0.8)\n",
      "Requirement already satisfied: websockets<11,>=9 in /gpfs/home5/mbueschel/.local/lib/python3.10/site-packages (from simphony-osp) (10.4)\n",
      "Requirement already satisfied: rdflib-sqlalchemy>=0.5.0 in /gpfs/home5/mbueschel/.local/lib/python3.10/site-packages (from simphony-osp) (0.5.4)\n",
      "Requirement already satisfied: graphviz in /gpfs/home5/mbueschel/.local/lib/python3.10/site-packages (from simphony-osp) (0.20.1)\n",
      "Requirement already satisfied: PyYaml in /gpfs/admin/_hpc/sw/arch/AMD-ZEN2/RHEL8/EB_production/2022/software/PyYAML/6.0-GCCcore-11.3.0/lib/python3.10/site-packages (from simphony-osp) (6.0)\n",
      "Requirement already satisfied: numpy in /gpfs/admin/_hpc/sw/arch/AMD-ZEN2/RHEL8/EB_production/2022/software/SciPy-bundle/2022.05-foss-2022a/lib/python3.10/site-packages (from simphony-osp) (1.22.3)\n",
      "Requirement already satisfied: starlette<0.26.0,>=0.25.0 in /gpfs/home5/mbueschel/.local/lib/python3.10/site-packages (from fastapi<=0.95.1,>0.75->marketplace-sdk==0.5.0) (0.25.0)\n",
      "Requirement already satisfied: pydantic!=1.7,!=1.7.1,!=1.7.2,!=1.7.3,!=1.8,!=1.8.1,<2.0.0,>=1.6.2 in /gpfs/home5/mbueschel/.local/lib/python3.10/site-packages (from fastapi<=0.95.1,>0.75->marketplace-sdk==0.5.0) (1.10.12)\n",
      "Requirement already satisfied: python-multipart<=0.1,>0.0.5 in /gpfs/home5/mbueschel/.local/lib/python3.10/site-packages (from marketplace-standard-app-api~=0.4->marketplace-sdk==0.5.0) (0.0.6)\n",
      "Requirement already satisfied: email-validator<=2.0,>=1.2.1 in /gpfs/home5/mbueschel/.local/lib/python3.10/site-packages (from marketplace-standard-app-api~=0.4->marketplace-sdk==0.5.0) (2.0.0)\n",
      "Requirement already satisfied: SQLAlchemy<2.0.0,>=1.1.4 in /gpfs/admin/_hpc/sw/arch/AMD-ZEN2/RHEL8/EB_production/2022/software/JupyterHub/3.0.0-GCCcore-11.3.0/lib/python3.10/site-packages (from rdflib-sqlalchemy>=0.5.0->simphony-osp) (1.4.42)\n",
      "Requirement already satisfied: six>=1.10.0 in /gpfs/admin/_hpc/sw/arch/AMD-ZEN2/RHEL8/EB_production/2022/software/Python/3.10.4-GCCcore-11.3.0/lib/python3.10/site-packages (from rdflib-sqlalchemy>=0.5.0->simphony-osp) (1.16.0)\n",
      "Requirement already satisfied: alembic>=0.8.8 in /gpfs/admin/_hpc/sw/arch/AMD-ZEN2/RHEL8/EB_production/2022/software/JupyterHub/3.0.0-GCCcore-11.3.0/lib/python3.10/site-packages (from rdflib-sqlalchemy>=0.5.0->simphony-osp) (1.8.1)\n",
      "Requirement already satisfied: certifi>=2017.4.17 in /gpfs/admin/_hpc/sw/arch/AMD-ZEN2/RHEL8/EB_production/2022/software/Python/3.10.4-GCCcore-11.3.0/lib/python3.10/site-packages (from requests<3.0,>2.26.0->marketplace-sdk==0.5.0) (2021.10.8)\n",
      "Requirement already satisfied: idna<4,>=2.5 in /gpfs/admin/_hpc/sw/arch/AMD-ZEN2/RHEL8/EB_production/2022/software/Python/3.10.4-GCCcore-11.3.0/lib/python3.10/site-packages (from requests<3.0,>2.26.0->marketplace-sdk==0.5.0) (3.3)\n",
      "Requirement already satisfied: charset-normalizer~=2.0.0 in /gpfs/admin/_hpc/sw/arch/AMD-ZEN2/RHEL8/EB_production/2022/software/Python/3.10.4-GCCcore-11.3.0/lib/python3.10/site-packages (from requests<3.0,>2.26.0->marketplace-sdk==0.5.0) (2.0.12)\n",
      "Requirement already satisfied: Mako in /gpfs/admin/_hpc/sw/arch/AMD-ZEN2/RHEL8/EB_production/2022/software/Mako/1.2.0-GCCcore-11.3.0/lib/python3.10/site-packages (from alembic>=0.8.8->rdflib-sqlalchemy>=0.5.0->simphony-osp) (1.2.0)\n",
      "Requirement already satisfied: dnspython>=2.0.0 in /gpfs/home5/mbueschel/.local/lib/python3.10/site-packages (from email-validator<=2.0,>=1.2.1->marketplace-standard-app-api~=0.4->marketplace-sdk==0.5.0) (2.4.2)\n",
      "Requirement already satisfied: typing-extensions>=4.2.0 in /gpfs/admin/_hpc/sw/arch/AMD-ZEN2/RHEL8/EB_production/2022/software/Python/3.10.4-GCCcore-11.3.0/lib/python3.10/site-packages (from pydantic!=1.7,!=1.7.1,!=1.7.2,!=1.7.3,!=1.8,!=1.8.1,<2.0.0,>=1.6.2->fastapi<=0.95.1,>0.75->marketplace-sdk==0.5.0) (4.2.0)\n",
      "Requirement already satisfied: rsa in /gpfs/admin/_hpc/sw/arch/AMD-ZEN2/RHEL8/EB_production/2022/software/TensorFlow/2.11.0-foss-2022a-CUDA-11.7.0/lib/python3.10/site-packages (from python-jose<4.0.0,>=3.3.0->python-keycloak==2.12.0->marketplace-sdk==0.5.0) (4.9)\n",
      "Requirement already satisfied: ecdsa!=0.15 in /gpfs/admin/_hpc/sw/arch/AMD-ZEN2/RHEL8/EB_production/2022/software/Python/3.10.4-GCCcore-11.3.0/lib/python3.10/site-packages (from python-jose<4.0.0,>=3.3.0->python-keycloak==2.12.0->marketplace-sdk==0.5.0) (0.17.0)\n",
      "Requirement already satisfied: pyasn1 in /gpfs/admin/_hpc/sw/arch/AMD-ZEN2/RHEL8/EB_production/2022/software/Python/3.10.4-GCCcore-11.3.0/lib/python3.10/site-packages (from python-jose<4.0.0,>=3.3.0->python-keycloak==2.12.0->marketplace-sdk==0.5.0) (0.4.8)\n",
      "Requirement already satisfied: greenlet!=0.4.17 in /gpfs/admin/_hpc/sw/arch/AMD-ZEN2/RHEL8/EB_production/2022/software/JupyterHub/3.0.0-GCCcore-11.3.0/lib/python3.10/site-packages (from SQLAlchemy<2.0.0,>=1.1.4->rdflib-sqlalchemy>=0.5.0->simphony-osp) (1.1.3.post0)\n",
      "Requirement already satisfied: anyio<5,>=3.4.0 in /gpfs/admin/_hpc/sw/arch/AMD-ZEN2/RHEL8/EB_production/2022/software/jupyter-server/1.21.0-GCCcore-11.3.0/lib/python3.10/site-packages (from starlette<0.26.0,>=0.25.0->fastapi<=0.95.1,>0.75->marketplace-sdk==0.5.0) (3.6.1)\n",
      "Requirement already satisfied: sniffio>=1.1 in /gpfs/admin/_hpc/sw/arch/AMD-ZEN2/RHEL8/EB_production/2022/software/jupyter-server/1.21.0-GCCcore-11.3.0/lib/python3.10/site-packages (from anyio<5,>=3.4.0->starlette<0.26.0,>=0.25.0->fastapi<=0.95.1,>0.75->marketplace-sdk==0.5.0) (1.3.0)\n",
      "Requirement already satisfied: MarkupSafe>=0.9.2 in /gpfs/admin/_hpc/sw/arch/AMD-ZEN2/RHEL8/EB_production/2022/software/Python/3.10.4-GCCcore-11.3.0/lib/python3.10/site-packages (from Mako->alembic>=0.8.8->rdflib-sqlalchemy>=0.5.0->simphony-osp) (2.1.1)\n",
      "Installing collected packages: rdflib, rdflib-jsonld, python-keycloak, marketplace-sdk\n",
      "  Attempting uninstall: rdflib\n",
      "    Found existing installation: rdflib 6.3.2\n",
      "    Uninstalling rdflib-6.3.2:\n",
      "      Successfully uninstalled rdflib-6.3.2\n",
      "\u001b[33m  WARNING: The scripts csv2rdf, rdf2dot, rdfgraphisomorphism, rdfpipe and rdfs2dot are installed in '/home/mbueschel/.local/bin' which is not on PATH.\n",
      "  Consider adding this directory to PATH or, if you prefer to suppress this warning, use --no-warn-script-location.\u001b[0m\u001b[33m\n",
      "\u001b[0m  Attempting uninstall: python-keycloak\n",
      "    Found existing installation: python-keycloak 1.4.0\n",
      "    Uninstalling python-keycloak-1.4.0:\n",
      "      Successfully uninstalled python-keycloak-1.4.0\n",
      "  Attempting uninstall: marketplace-sdk\n",
      "    Found existing installation: marketplace-sdk 0.4.0\n",
      "    Uninstalling marketplace-sdk-0.4.0:\n",
      "      Successfully uninstalled marketplace-sdk-0.4.0\n",
      "\u001b[33m  WARNING: The scripts delete_collection, delete_dataset, download_file, download_folder, get_collection_dcat, get_dataset_dcat, list_collections, list_datasets, query, query_dataset, upload_file_from_path and upload_folder are installed in '/home/mbueschel/.local/bin' which is not on PATH.\n",
      "  Consider adding this directory to PATH or, if you prefer to suppress this warning, use --no-warn-script-location.\u001b[0m\u001b[33m\n",
      "\u001b[0m\u001b[31mERROR: pip's dependency resolver does not currently take into account all the packages that are installed. This behaviour is the source of the following dependency conflicts.\n",
      "shieldapi 1.1.1 requires python-keycloak==1.4.0, but you have python-keycloak 2.12.0 which is incompatible.\u001b[0m\u001b[31m\n",
      "\u001b[0mSuccessfully installed marketplace-sdk-0.5.0 python-keycloak-2.12.0 rdflib-6.2.0 rdflib-jsonld-0.6.2\n",
      "\u001b[33mWARNING: You are using pip version 22.0.4; however, version 23.2.1 is available.\n",
      "You should consider upgrading via the '/sw/arch/RHEL8/EB_production/2022/software/Python/3.10.4-GCCcore-11.3.0/bin/python -m pip install --upgrade pip' command.\u001b[0m\u001b[33m\n",
      "\u001b[0m"
     ]
    }
   ],
   "source": [
    "!pip install reaxpro-workflow-service git+https://github.com/materials-marketplace/python-sdk.git@fix/import-error"
   ]
  },
  {
   "cell_type": "markdown",
   "id": "4b7c6551-5cef-492e-8684-c449dc3ee9f5",
   "metadata": {},
   "source": [
    "Import the MPSession for the data sink client and the custom requests-module"
   ]
  },
  {
   "cell_type": "code",
   "execution_count": 25,
   "id": "e9e2584f-6a41-4749-af85-3d5bbcd5e730",
   "metadata": {},
   "outputs": [],
   "source": [
    "import requests\n",
    "import tempfile\n",
    "from getpass import getpass\n",
    "from pprint import pprint\n",
    "\n",
    "from marketplace.datasink_client.session import MPSession\n",
    "from osp.core.namespaces import emmo"
   ]
  },
  {
   "cell_type": "markdown",
   "id": "2efd26c3-a18a-4c56-94a2-091044ca7fb6",
   "metadata": {},
   "source": [
    "Set the host of your reaxpro-platform. The IP address is the respective address where you launched the app via docker or singularity."
   ]
  },
  {
   "cell_type": "code",
   "execution_count": 2,
   "id": "0dab9cda-ce8e-440f-adb8-cd19814d0345",
   "metadata": {},
   "outputs": [],
   "source": [
    "HOST = \"172.18.57.64:8080\""
   ]
  },
  {
   "cell_type": "markdown",
   "id": "224895fa-fdec-45dd-8527-3299c66f436e",
   "metadata": {},
   "source": [
    "Now, let us repeat the tutorial which is available from the [official documentation](https://reaxpro-workflow-service.readthedocs.io/en/latest/index.html), but in terms of the [RES calculation in ams](https://reaxpro-workflow-service.readthedocs.io/en/latest/usecases.html#res-calculation). "
   ]
  },
  {
   "cell_type": "code",
   "execution_count": 3,
   "id": "02bd35f9-897c-4ff6-89ec-a7d8af4ef538",
   "metadata": {},
   "outputs": [
    {
     "name": "stdout",
     "output_type": "stream",
     "text": [
      "First of all, we make sure that the PES Calculation is our registered models:\n",
      "{'message': 'Fetched registry of data models.',\n",
      " 'registered_models': ['COPt111FullscaleModel',\n",
      "                       'COPt111FromMesoScaleModel',\n",
      "                       'PESExploration',\n",
      "                       'COPt111MesoscaleModel',\n",
      "                       'COCatalyticFOAMModel',\n",
      "                       'EnergyLandscapeRefinement',\n",
      "                       'COpyZacrosModel']}\n"
     ]
    }
   ],
   "source": [
    "response = requests.get(f\"http://{HOST}/models/registered\")\n",
    "print(\"First of all, we make sure that the PES Calculation is our registered models:\")\n",
    "pprint(response.json())"
   ]
  },
  {
   "cell_type": "markdown",
   "id": "cb2b30bb-dde8-49b9-8ad9-a208e56eb6c4",
   "metadata": {},
   "source": [
    "Now, we define in the input data from the documentation:"
   ]
  },
  {
   "cell_type": "code",
   "execution_count": 4,
   "id": "9fa1dca3-d2cf-47a0-a50e-737014b99dd6",
   "metadata": {},
   "outputs": [],
   "source": [
    "data = {\n",
    "    \"force_field\": \"CHONSFPtClNi\",\n",
    "    \"solver_type\": \"Direct\",\n",
    "    \"n_expeditions\": 30,\n",
    "    \"n_explorers\": 3,\n",
    "    \"max_energy\": 2.0,\n",
    "    \"max_distance\": 3.8,\n",
    "    \"random_seed\": 100,\n",
    "    \"fixed_region\": \"surface\",\n",
    "    \"reference_region\": \"surface\",\n",
    "    \"symmetry_check\": \"T\",\n",
    "    \"molecule\": \"4442d5c3-4b61-4b13-9bbb-fdf942776ca6\",\n",
    "    \"lattice\": \"4442d5c3-4b61-4b13-9bbb-fdf942776ca6\"\n",
    "}    "
   ]
  },
  {
   "cell_type": "code",
   "execution_count": 5,
   "id": "ad42701e-67ff-462b-94b5-c40ba402e5b2",
   "metadata": {},
   "outputs": [
    {
     "name": "stdout",
     "output_type": "stream",
     "text": [
      "Create the model and get the cache id from the response:\n",
      "{'cache_id': '174fa4b7-2931-4dc2-8040-6b5acf4adfee'}\n"
     ]
    }
   ],
   "source": [
    "response = requests.post(f\"http://{HOST}/models/create/PESExploration\", json=data)\n",
    "print(\"Create the model and get the cache id from the response:\")\n",
    "cache = response.json()\n",
    "pprint(cache)"
   ]
  },
  {
   "cell_type": "code",
   "execution_count": 6,
   "id": "9dcf3e5c-71ec-4676-9954-0dccbfbbc7ee",
   "metadata": {},
   "outputs": [
    {
     "name": "stdout",
     "output_type": "stream",
     "text": [
      "Send the task and get the task id from the response:\n",
      "{'args': None,\n",
      " 'date_done': None,\n",
      " 'kwargs': None,\n",
      " 'state': 'PENDING',\n",
      " 'status': 'PENDING',\n",
      " 'task_id': '2cc9cfab-c349-49b1-9664-47aa97e3dcdc',\n",
      " 'traceback': None}\n"
     ]
    }
   ],
   "source": [
    "response = requests.post(f\"http://{HOST}/task/send\", json=cache)\n",
    "\n",
    "print(\"Send the task and get the task id from the response:\")\n",
    "\n",
    "task = response.json()\n",
    "pprint(task)\n",
    "task_id = task[\"task_id\"]"
   ]
  },
  {
   "cell_type": "code",
   "execution_count": 7,
   "id": "fe411aa1-b99c-4cf2-9019-604e2e70ba3b",
   "metadata": {},
   "outputs": [
    {
     "name": "stdout",
     "output_type": "stream",
     "text": [
      "Get logging messages of the task:\n",
      "\n",
      "2023-08-28 23:56:50,299 - INFO - received cache_key 174fa4b7-2931-4dc2-8040-6b5acf4adfee\n",
      "2023-08-28 23:56:50,690 - INFO - 293 CUDS objects have been added to CeleryWorkflowSession\n",
      "2023-08-28 23:56:50,703 - INFO - 1 CUDS object has been updated in CeleryWorkflowSession\n",
      "2023-08-28 23:56:50,715 - INFO - 0 CUDS objects have been deleted from CeleryWorkflowSession\n",
      "2023-08-28 23:56:50,732 - INFO - Did not find any workflow steps with\n",
      "            complementary workers. Will scan for single\n",
      "            object of type emmo.Calculation.\n",
      "2023-08-28 23:56:50,750 - INFO - Found additional workers [(<emmo.ProcessSearch: e7bb9e3a-35ee-4648-9ac2-41d82fc57d61,  CeleryWorkflowSession: @0x14a712df4fd0>, 'simphony-ams')] in the buffer,\n",
      "        but will ignored because not part of a workflow chain.\n",
      "2023-08-28 23:56:50,804 - INFO - received cache_key 174fa4b7-2931-4dc2-8040-6b5acf4adfee\n",
      "2023-08-28 23:56:51,114 - INFO - 293 CUDS objects have been added to Some Wrapper Session\n",
      "2023-08-28 23:56:51,126 - INFO - 1 CUDS object has been updated in Some Wrapper Session\n",
      "2023-08-28 23:56:51,138 - INFO - 0 CUDS objects have been deleted from Some Wrapper Session\n",
      "2023-08-28 23:56:53,296 - INFO - Task simphony-ams[4b31daf4-7d7f-41a7-9970-3d61eb147325] succeeded in 2.5016228929162025s: {'cache_meta': 'fc5c0eb3-f49b-48a0-9a27-b7f9e0afbda9', 'cache_raw': '97876357-dcec-4230-9296-90c358379abb'}\n",
      "2023-08-28 23:56:54,113 - INFO - Task simphony-workflows[2cc9cfab-c349-49b1-9664-47aa97e3dcdc] succeeded in 3.825375194195658s: {'cache_meta': '2527abbc-0ee0-421a-8dba-45d80ea6fc5a', 'cache_raw': {'0_simphony-ams': '97876357-dcec-4230-9296-90c358379abb'}}\n",
      "\n"
     ]
    }
   ],
   "source": [
    "response = requests.get(f\"http://{HOST}/task/log/{task_id}\")\n",
    "\n",
    "print(\"Get logging messages of the task:\\n\")\n",
    "print(response.text)"
   ]
  },
  {
   "cell_type": "code",
   "execution_count": 8,
   "id": "ccc7bd51-21fa-4727-b707-73c517c9dce8",
   "metadata": {},
   "outputs": [
    {
     "name": "stdout",
     "output_type": "stream",
     "text": [
      "Check that the job was successful task:\n",
      "\n",
      "{'args': None,\n",
      " 'date_done': '2023-08-28T21:56:54.112362',\n",
      " 'kwargs': None,\n",
      " 'state': 'SUCCESS',\n",
      " 'status': 'SUCCESS',\n",
      " 'task_id': '2cc9cfab-c349-49b1-9664-47aa97e3dcdc',\n",
      " 'traceback': None}\n"
     ]
    }
   ],
   "source": [
    "response = requests.get(f\"http://{HOST}/task/status/{task_id}\")\n",
    "\n",
    "print(\"Check that the job was successful task:\\n\")\n",
    "pprint(response.json())"
   ]
  },
  {
   "cell_type": "code",
   "execution_count": 9,
   "id": "d2716f8e-4ef6-4fa1-9d0d-2d7e83544d0a",
   "metadata": {},
   "outputs": [
    {
     "name": "stdout",
     "output_type": "stream",
     "text": [
      "Get results from the simulation:\n",
      "\n",
      "{'date_done': '2023-08-28T21:56:54.112362',\n",
      " 'result': {'cache_meta': '2527abbc-0ee0-421a-8dba-45d80ea6fc5a',\n",
      "            'cache_raw': {'0_simphony-ams': '97876357-dcec-4230-9296-90c358379abb'}},\n",
      " 'task_id': '2cc9cfab-c349-49b1-9664-47aa97e3dcdc',\n",
      " 'traceback': None}\n"
     ]
    }
   ],
   "source": [
    "response = requests.get(f\"http://{HOST}/task/result/{task_id}\")\n",
    "\n",
    "print(\"Get results from the simulation:\\n\")\n",
    "result = response.json()\n",
    "pprint(result)\n",
    "\n",
    "graph_key = result[\"result\"][\"cache_meta\"]\n",
    "raw_data_key = result[\"result\"][\"cache_raw\"][\"0_simphony-ams\"]"
   ]
  },
  {
   "cell_type": "code",
   "execution_count": 10,
   "id": "7bcd34be-69fc-4c5b-baaf-ffa6f0f9e7a2",
   "metadata": {},
   "outputs": [
    {
     "name": "stdout",
     "output_type": "stream",
     "text": [
      "First of all, get the resulting graph from the simulation:\n",
      "File name: /scratch-local/mbueschel.3552932/tmpla_wqhvn.ttl\n",
      "Then, get zipped archive with the raw data from the simulation:\n",
      "File name: /scratch-local/mbueschel.3552932/tmprkhbz9hj.tar\n"
     ]
    }
   ],
   "source": [
    "print(\"First of all, get the resulting graph from the simulation:\")\n",
    "\n",
    "response = requests.get(f\"http://{HOST}/cache/download/{graph_key}\")\n",
    "\n",
    "with tempfile.NamedTemporaryFile(\"w\", delete=False, suffix=\".ttl\") as tmp_graph:\n",
    "    tmp_graph.write(response.text)\n",
    "print(\"File name:\", tmp_graph.name)\n",
    "\n",
    "print(\"Then, get zipped archive with the raw data from the simulation:\")\n",
    "\n",
    "response = requests.get(f\"http://{HOST}/cache/download/{raw_data_key}\")\n",
    "\n",
    "with tempfile.NamedTemporaryFile(\"w\", delete=False, suffix=\".tar\") as tmp_raw:\n",
    "    tmp_raw.write(response.text)\n",
    "print(\"File name:\", tmp_raw.name)"
   ]
  },
  {
   "cell_type": "markdown",
   "id": "d137915c-061a-4250-8caf-040be4b5f759",
   "metadata": {},
   "source": [
    "Now that we have down our data, we will interact with the data sink on the MarketPlace in order to store and organize our data.\n",
    "\n",
    "For this purpose, we set our client ID (Make sure that you purchased it on the platform first)."
   ]
  },
  {
   "cell_type": "code",
   "execution_count": 11,
   "id": "166f7df3-97d2-4bc0-bc1f-cf785a036d1e",
   "metadata": {},
   "outputs": [],
   "source": [
    "client_id = \"845f0022-fa5e-4ea2-a601-947c9f39be01\""
   ]
  },
  {
   "cell_type": "markdown",
   "id": "4dc79894-9b8e-47c8-a666-cda5b587d91c",
   "metadata": {},
   "source": [
    "And set the access token:"
   ]
  },
  {
   "cell_type": "code",
   "execution_count": 13,
   "id": "5d872790-6036-468b-95ef-6707455066ed",
   "metadata": {},
   "outputs": [
    {
     "name": "stdin",
     "output_type": "stream",
     "text": [
      " ········\n"
     ]
    }
   ],
   "source": [
    "token = getpass()"
   ]
  },
  {
   "cell_type": "markdown",
   "id": "dc7f9426-c816-43a3-8626-9bfe89546d66",
   "metadata": {},
   "source": [
    "And start the MP session:"
   ]
  },
  {
   "cell_type": "code",
   "execution_count": 14,
   "id": "3f6769b7-765c-4646-8148-de46f803ccb9",
   "metadata": {},
   "outputs": [],
   "source": [
    "session = MPSession(access_token=token, client_id=client_id)"
   ]
  },
  {
   "cell_type": "markdown",
   "id": "295d3c54-82ea-4a84-930e-1f1101e2876c",
   "metadata": {},
   "source": [
    "In order to follow the conventions of DCAT (the data cataloge), we define a new collection name to which we upload our data. For simplicity, we will use the `task_id` as collection name."
   ]
  },
  {
   "cell_type": "code",
   "execution_count": 32,
   "id": "68c26d56-b826-4636-8039-2486cdbd10c7",
   "metadata": {},
   "outputs": [
    {
     "name": "stdout",
     "output_type": "stream",
     "text": [
      "Upload the graph:\n",
      "\n",
      "Error: Server returned 400 while creating collection 2cc9cfab-c349-49b1-9664-47aa97e3dcdc: {\"detail\":\"There is already a collection with given name. Root collection name should be always unique.\"}\n",
      "None\n",
      "\n",
      "And upload the raw data:\n",
      "\n",
      "Error: Server returned 400 while creating collection 2cc9cfab-c349-49b1-9664-47aa97e3dcdc: {\"detail\":\"There is already a collection with given name. Root collection name should be always unique.\"}\n",
      "None\n"
     ]
    }
   ],
   "source": [
    "print(\"Upload the graph:\\n\")\n",
    "\n",
    "graph_name = f\"graph-{task_id}\"\n",
    "raw_name = f\"raw-data-ams-{task_id}\"\n",
    "\n",
    "objects = session.create_dataset_from_path(\n",
    "        path=tmp_graph.name,\n",
    "        dataset_name=graph_name,\n",
    "        collection_name=task_id,\n",
    ")\n",
    "print(objects)\n",
    "\n",
    "print(\"\\nAnd upload the raw data:\\n\")\n",
    "\n",
    "objects = session.create_dataset_from_path(\n",
    "        path=tmp_raw.name,\n",
    "        dataset_name=raw_name,\n",
    "        collection_name=task_id,\n",
    ")\n",
    "print(objects)"
   ]
  },
  {
   "cell_type": "code",
   "execution_count": 31,
   "id": "813d7afc-2282-41aa-8557-90c7163f277b",
   "metadata": {},
   "outputs": [
    {
     "name": "stdout",
     "output_type": "stream",
     "text": [
      "API encountered exception. Please check if all your environment variables configured properly once. Error details:  The app does not support this capability.\n",
      "None\n"
     ]
    }
   ],
   "source": [
    "objects = session.get_collection_dcat(collection_name=task_id)\n",
    "print(objects)"
   ]
  },
  {
   "cell_type": "markdown",
   "id": "2faa1601-92fe-4a4c-b63a-d8e037c8b73a",
   "metadata": {},
   "source": [
    "And let us send a SPARQL-query to a graph in the data sink:"
   ]
  },
  {
   "cell_type": "markdown",
   "id": "0f2f4851-01ae-4bf1-9db9-055b04ce648c",
   "metadata": {},
   "source": [
    "Give me all calculation individuals?"
   ]
  },
  {
   "cell_type": "code",
   "execution_count": 33,
   "id": "463da478-a9ab-4153-815d-a6d66afa8faf",
   "metadata": {},
   "outputs": [
    {
     "name": "stdout",
     "output_type": "stream",
     "text": [
      "API encountered exception. Please check if all your environment variables configured properly once. Error details:  The app does not support this capability.\n",
      "None\n"
     ]
    }
   ],
   "source": [
    "query = f\"\"\"PREFIX skos:<http://www.w3.org/2004/02/skos/core#>\n",
    "\n",
    "    SELECT ?calculation ?calculationname WHERE {{\n",
    "        ?calculationtype rdfs:subClassOf* <{emmo.Calculation.iri}> .\n",
    "        ?calculation rdf:type ?calculationtype .\n",
    "        ?calculationtype skos:prefLabel ?calculationname .\n",
    "    }}\n",
    "\"\"\"\n",
    "\n",
    "objects = session.query_dataset(collection_name=task_id, dataset_name=graph_name, query=query)\n",
    "pprint(objects)\n",
    "\n"
   ]
  },
  {
   "cell_type": "markdown",
   "id": "17984dd3-0d80-46af-ba6a-88c3ded907cc",
   "metadata": {},
   "source": [
    "Give all calculations with output TotalEnelectronic Energy?"
   ]
  },
  {
   "cell_type": "code",
   "execution_count": 34,
   "id": "e5ac1a72-e987-4aec-82ad-b3d2fd026075",
   "metadata": {},
   "outputs": [
    {
     "name": "stdout",
     "output_type": "stream",
     "text": [
      "API encountered exception. Please check if all your environment variables configured properly once. Error details:  The app does not support this capability.\n",
      "None\n"
     ]
    }
   ],
   "source": [
    "query = f\"\"\"PREFIX skos:<http://www.w3.org/2004/02/skos/core#>\n",
    "\n",
    "    SELECT ?calculation ?calculationname ?optgeometry ?valuenumber  ?unitsymbol WHERE {{\n",
    "        ?calculationtype rdfs:subClassOf* <{emmo.Calculation.iri}> .\n",
    "        ?calculation rdf:type ?calculationtype .\n",
    "        ?calculationtype skos:prefLabel ?calculationname .\n",
    "        ?calculation <{emmo.hasOutput.iri}> ?optgeometry .\n",
    "        ?optgeometry <{emmo.hasProperty.iri}> ?totalelectronicenergy .\n",
    "        ?totalelectronicenergy rdf:type <{emmo.TotalElectronicEnergy.iri}> .\n",
    "        ?totalelectronicenergy <{emmo.hasQuantityValue.iri}> ?value .\n",
    "        ?value <{emmo.hasNumericalData.iri}> ?valuenumber .\n",
    "        ?totalelectronicenergy <{emmo.hasReferenceUnit.iri}> ?unit .\n",
    "        ?unit <{emmo.hasSymbolData.iri}> ?unitsymbol .\n",
    "\n",
    "    }}\n",
    "\"\"\"\n",
    "\n",
    "objects = session.query_dataset(collection_name=task_id, dataset_name=graph_name, query=query)\n",
    "pprint(objects)"
   ]
  },
  {
   "cell_type": "code",
   "execution_count": null,
   "id": "ffdfe92b-df3c-421a-a84f-67f5e9453d75",
   "metadata": {},
   "outputs": [],
   "source": []
  }
 ],
 "metadata": {
  "kernelspec": {
   "display_name": "marketplace_env",
   "language": "python",
   "name": "marketplace_env"
  },
  "language_info": {
   "codemirror_mode": {
    "name": "ipython",
    "version": 3
   },
   "file_extension": ".py",
   "mimetype": "text/x-python",
   "name": "python",
   "nbconvert_exporter": "python",
   "pygments_lexer": "ipython3",
   "version": "3.10.4"
  }
 },
 "nbformat": 4,
 "nbformat_minor": 5
}
